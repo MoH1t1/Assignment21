{
  "metadata": {
    "kernelspec": {
      "name": "python",
      "display_name": "Python (Pyodide)",
      "language": "python"
    },
    "language_info": {
      "codemirror_mode": {
        "name": "python",
        "version": 3
      },
      "file_extension": ".py",
      "mimetype": "text/x-python",
      "name": "python",
      "nbconvert_exporter": "python",
      "pygments_lexer": "ipython3",
      "version": "3.8"
    }
  },
  "nbformat_minor": 4,
  "nbformat": 4,
  "cells": [
    {
      "cell_type": "code",
      "source": "# Consider following code to answer further questions:\nimport pandas as pd\ncourse_name = [‘Data Science’, ‘Machine Learning’, ‘Big Data’, ‘Data Engineer’]\nduration = [2,3,6,4]\ndf = pd.DataFrame(data = {‘course_name’ : course_name, ‘duration’ : duration})",
      "metadata": {
        "trusted": true
      },
      "outputs": [],
      "execution_count": null
    },
    {
      "cell_type": "code",
      "source": "# Q1. Write a code to print the data present in the second row of the dataframe, df.\n\nimport pandas as pd\ncourse_name = ['Data Science', 'Machine Learning', 'Big Data', 'Data Engineer']\nduration = [2, 3, 6, 4]\ndf = pd.DataFrame(data = {'course_name' : course_name, 'duration' : duration})\nprint(df.iloc[1])",
      "metadata": {
        "trusted": true
      },
      "outputs": [
        {
          "name": "stdout",
          "text": "course_name    Machine Learning\nduration                      3\nName: 1, dtype: object\n",
          "output_type": "stream"
        }
      ],
      "execution_count": 2
    },
    {
      "cell_type": "code",
      "source": "Q2: What is the difference between the functions loc and iloc in pandas.DataFrame?\n\nloc: This is label-based indexing. It is used to access rows and columns by their label (i.e., the name of the index or column).\nExample: df.loc[1] would access the row with the index label 1.\n    \niloc: This is position-based indexing. It is used to access rows and columns by their position (i.e., the integer index).\nExample: df.iloc[1] would access the second row, as indexing starts at 0.",
      "metadata": {
        "trusted": true
      },
      "outputs": [],
      "execution_count": null
    },
    {
      "cell_type": "code",
      "source": "# Q3. Reindex the given dataframe using a variable, reindex = [3,0,1,2] and store it in the variable, new_df\n# then find the output for both new_df.loc[2] and new_df.iloc[2]. Did you observe any difference in both the outputs? If so then explain it.\n\nimport pandas as pd\ncourse_name = ['Data Science', 'Machine Learning', 'Big Data', 'Data Engineer']\nduration = [2, 3, 6, 4]\ndf = pd.DataFrame(data={'course_name': course_name, 'duration': duration})\n\nreindex = [3, 0, 1, 2]\nnew_df = df.reindex(reindex)\n\nprint(\"new_df.loc[2]:\\n\", new_df.loc[2])\nprint(\"new_df.iloc[2]:\\n\", new_df.iloc[2])\n\n# The difference is that loc accesses rows by label (index), while iloc accesses rows by position (integer index).",
      "metadata": {
        "trusted": true
      },
      "outputs": [
        {
          "name": "stdout",
          "text": "new_df.loc[2]:\n course_name    Big Data\nduration              6\nName: 2, dtype: object\nnew_df.iloc[2]:\n course_name    Machine Learning\nduration                      3\nName: 1, dtype: object\n",
          "output_type": "stream"
        }
      ],
      "execution_count": 3
    },
    {
      "cell_type": "code",
      "source": "# Consider the below code to answer further questions:\nimport pandas as pd\nimport numpy as np\ncolumns = ['column_1', 'column_2', 'column_3', 'column_4', 'column_5', 'column_6']\nindices = [1,2,3,4,5,6]\ndf1 = pd.DataFrame(np.random.rand(6,6), columns = columns, index = indices)",
      "metadata": {
        "trusted": true
      },
      "outputs": [],
      "execution_count": null
    },
    {
      "cell_type": "code",
      "source": "# Q4. Write a code to find the following statistical measurements for the above dataframe df1:\n\n# (i) mean of each and every column present in the dataframe.\nimport pandas as pd\nimport numpy as np\ncolumns = ['column_1', 'column_2', 'column_3', 'column_4', 'column_5', 'column_6']\nindices = [1, 2, 3, 4, 5, 6]\ndf1 = pd.DataFrame(np.random.rand(6, 6), columns=columns, index=indices)\nmean_values = df1.mean()\nprint(\"Mean of each column:\")\nprint(mean_values)\n\n# (ii) standard deviation of column, ‘column_2’\nstd_dev_column_2 = df1['column_2'].std()\nprint(f\"Standard deviation of column_2: {std_dev_column_2}\")",
      "metadata": {
        "trusted": true
      },
      "outputs": [
        {
          "name": "stdout",
          "text": "Mean of each column:\ncolumn_1    0.580404\ncolumn_2    0.404588\ncolumn_3    0.484327\ncolumn_4    0.276037\ncolumn_5    0.445493\ncolumn_6    0.619333\ndtype: float64\nStandard deviation of column_2: 0.32836305063739524\n",
          "output_type": "stream"
        }
      ],
      "execution_count": 4
    },
    {
      "cell_type": "code",
      "source": "# Q5. Replace the data present in the second row of column, ‘column_2’ by a string variable then find the mean of column, column_2.\n# If you are getting errors in executing it then explain why. [Hint: To replace the data use df1.loc[] and equate this to string data of your choice.]\n\nimport pandas as pd\nimport numpy as np\n\ncolumns = ['column_1', 'column_2', 'column_3', 'column_4', 'column_5', 'column_6']\nindices = [1, 2, 3, 4, 5, 6]\ndf1 = pd.DataFrame(np.random.rand(6, 6), columns=columns, index=indices)\n\nprint(\"Original DataFrame:\")\nprint(df1)\ndf1.loc[2, 'column_2'] = \"string_data\"\nprint(\"\\nDataFrame after replacing second row of 'column_2' with a string:\")\nprint(df1)\n\ntry:\n    mean_column_2 = df1['column_2'].mean()\n    print(f\"\\nMean of column_2: {mean_column_2}\")\nexcept Exception as e:\n    print(f\"\\nError: {e}\")\n",
      "metadata": {
        "trusted": true
      },
      "outputs": [
        {
          "name": "stdout",
          "text": "Original DataFrame:\n   column_1  column_2  column_3  column_4  column_5  column_6\n1  0.291237  0.575298  0.369998  0.597758  0.205065  0.678826\n2  0.971631  0.744863  0.546248  0.551797  0.850653  0.150613\n3  0.446820  0.038075  0.584697  0.772584  0.817619  0.793646\n4  0.485041  0.034024  0.920782  0.648818  0.119560  0.679653\n5  0.866320  0.499582  0.366717  0.105237  0.288272  0.114128\n6  0.326794  0.620103  0.999357  0.400002  0.076682  0.689101\n",
          "output_type": "stream"
        },
        {
          "name": "stderr",
          "text": "<ipython-input-7-f61a5e0ac378>:20: FutureWarning: Setting an item of incompatible dtype is deprecated and will raise an error in a future version of pandas. Value 'string_data' has dtype incompatible with float64, please explicitly cast to a compatible dtype first.\n  df1.loc[2, 'column_2'] = \"string_data\"\n",
          "output_type": "stream"
        },
        {
          "name": "stdout",
          "text": "\nDataFrame after replacing second row of 'column_2' with a string:\n   column_1     column_2  column_3  column_4  column_5  column_6\n1  0.291237     0.575298  0.369998  0.597758  0.205065  0.678826\n2  0.971631  string_data  0.546248  0.551797  0.850653  0.150613\n3  0.446820     0.038075  0.584697  0.772584  0.817619  0.793646\n4  0.485041     0.034024  0.920782  0.648818  0.119560  0.679653\n5  0.866320     0.499582  0.366717  0.105237  0.288272  0.114128\n6  0.326794     0.620103  0.999357  0.400002  0.076682  0.689101\n\nError: unsupported operand type(s) for +: 'float' and 'str'\n",
          "output_type": "stream"
        }
      ],
      "execution_count": 7
    },
    {
      "cell_type": "code",
      "source": "# Q6. What do you understand about the windows function in pandas and list the types of windows functions?\n\nWindow functions in pandas are used to perform calculations over a set of rows that are related to the current row. This is often done over a moving window of data, \nwhich can be defined in various ways.\nTypes of Window Functions: Rolling Window, Expanding Window, Exponential Moving Window (EWM), Window based on time:",
      "metadata": {
        "trusted": true
      },
      "outputs": [],
      "execution_count": 9
    },
    {
      "cell_type": "code",
      "source": "# Q7. Write a code to print only the current month and year at the time of answering this question. [Hint: Use pandas.datetime function]\n\nimport pandas as pd\ncurrent_date = pd.to_datetime(\"today\")\nmonth_year = current_date.strftime('%B %Y')  \nprint(f\"Current Month and Year: {month_year}\")",
      "metadata": {
        "trusted": true
      },
      "outputs": [
        {
          "name": "stdout",
          "text": "Current Month and Year: January 2025\n",
          "output_type": "stream"
        }
      ],
      "execution_count": 10
    },
    {
      "cell_type": "code",
      "source": "# Q8. Write a Python program that takes in two dates as input (in the format YYYY-MM-DD) and calculates the difference between them in days, hours, \n#     and minutes using Pandas time delta. The program should prompt the user to enter the dates and display the result.\n\nimport pandas as pd\ndef calculate_time_difference():\n    date1 = input(\"Enter the first date (YYYY-MM-DD): \")\n    date2 = input(\"Enter the second date (YYYY-MM-DD): \")\n    date1 = pd.to_datetime(date1)\n    date2 = pd.to_datetime(date2)\n    delta = date2 - date1\n    days = delta.days\n    seconds = delta.seconds\n    hours = seconds // 3600\n    minutes = (seconds % 3600) // 60\n    print(f\"Time difference is: {days} days, {hours} hours, {minutes} minutes\")\ncalculate_time_difference()",
      "metadata": {
        "trusted": true
      },
      "outputs": [],
      "execution_count": 12
    },
    {
      "cell_type": "code",
      "source": "# Q9. Write a Python program that reads a CSV file containing categorical data and converts a specified column to a categorical data type. \n#     The program should prompt the user to enter the file path, column name, and category order, and then display the sorted data.\n\nimport pandas as pd\ndef convert_to_categorical():\n    file_path = input(\"Enter the CSV file path: \")\n    column_name = input(\"Enter the column name to convert to categorical: \")\n    category_order = input(\"Enter the category order (comma-separated, e.g. 'Low, Medium, High'): \").split(',')\n    df = pd.read_csv(file_path)\n    df[column_name] = pd.Categorical(df[column_name], categories=category_order, ordered=True)\n    sorted_df = df.sort_values(by=column_name)\n    print(\"\\nSorted Data:\")\n    print(sorted_df)\n\nconvert_to_categorical()",
      "metadata": {
        "trusted": true
      },
      "outputs": [],
      "execution_count": null
    },
    {
      "cell_type": "code",
      "source": "# Q10. Write a Python program that reads a CSV file containing sales data for different products and visualizes the data using a stacked bar chart to show the \n#      sales of each product category over time. The program should prompt the user to enter the file path and display the chart.\n\nimport pandas as pd\nimport matplotlib.pyplot as plt\n\ndef visualize_sales_data():\n    file_path = input(\"Enter the CSV file path: \")\n    df = pd.read_csv(file_path)\n    pivot_df = df.pivot_table(index='Date', columns='Product Category', values='Sales', aggfunc='sum')\n    pivot_df.plot(kind='bar', stacked=True, figsize=(10, 6))\n    plt.title('Sales of Product Categories Over Time')\n    plt.xlabel('Date')\n    plt.ylabel('Sales')\n    plt.xticks(rotation=45)\n    plt.tight_layout()\n    plt.show()\n\nvisualize_sales_data()",
      "metadata": {
        "trusted": true
      },
      "outputs": [],
      "execution_count": null
    },
    {
      "cell_type": "code",
      "source": "# Q11. You are given a CSV file containing student data that includes the student ID and their test score. Write\n# a Python program that reads the CSV file, calculates the mean, median, and mode of the test scores, and displays the results in a table.\n\nimport pandas as pd\n\ndef calculate_statistics(file_path):\n    data = pd.read_csv(file_path)\n    mean_score = data['Test Score'].mean()\n    median_score = data['Test Score'].median()\n    mode_score = data['Test Score'].mode().tolist()\n    print(\"+-----------+--------+\")\n    print(\"| Statistic | Value  |\")\n    print(\"+-----------+--------+\")\n    print(f\"| Mean      | {mean_score:.1f}  |\")\n    print(f\"| Median    | {median_score}  |\")\n    print(f\"| Mode      | {', '.join(map(str, mode_score))} |\")\n    print(\"+-----------+--------+\")\n\nfile_path = input(\"Enter the file path of the CSV file containing the student data: \")\ncalculate_statistics(file_path)\n",
      "metadata": {
        "trusted": true
      },
      "outputs": [],
      "execution_count": null
    }
  ]
}